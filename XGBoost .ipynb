{
 "cells": [
  {
   "cell_type": "code",
   "execution_count": 10,
   "metadata": {
    "ExecuteTime": {
     "end_time": "2019-12-19T18:01:58.654769Z",
     "start_time": "2019-12-19T18:01:58.649782Z"
    }
   },
   "outputs": [],
   "source": [
    "import pandas as pd\n",
    "import numpy as np\n",
    "import lightgbm as lgb\n",
    "from sklearn.model_selection import GridSearchCV  # Perforing grid search\n",
    "from sklearn.model_selection import train_test_split\n",
    "from sklearn.metrics import log_loss"
   ]
  },
  {
   "cell_type": "code",
   "execution_count": 2,
   "metadata": {
    "ExecuteTime": {
     "end_time": "2019-12-19T17:57:23.312469Z",
     "start_time": "2019-12-19T17:57:20.709741Z"
    }
   },
   "outputs": [],
   "source": [
    "train_data = pd.read_csv('Traindata_cat3.csv')"
   ]
  },
  {
   "cell_type": "code",
   "execution_count": 3,
   "metadata": {
    "ExecuteTime": {
     "end_time": "2019-12-19T17:57:32.776501Z",
     "start_time": "2019-12-19T17:57:25.651319Z"
    }
   },
   "outputs": [
    {
     "data": {
      "text/plain": [
       "Index(['hour', 'C1', 'banner_pos', 'site_id', 'site_domain', 'site_category',\n",
       "       'app_id', 'app_domain', 'app_category', 'device_id', 'device_ip',\n",
       "       'device_model', 'device_type', 'device_conn_type', 'C14', 'C15', 'C16',\n",
       "       'C17', 'C18', 'C19', 'C20', 'C21'],\n",
       "      dtype='object')"
      ]
     },
     "execution_count": 3,
     "metadata": {},
     "output_type": "execute_result"
    }
   ],
   "source": [
    "train_y = train_data.pop('click').values.astype('int')   # target variable\n",
    "train_data.pop('id')\n",
    "col = train_data.columns\n",
    "train_x = train_data[col]\n",
    "\n",
    "train_x.iloc[:,0:23] = train_x.iloc[:,0:23].astype('str')\n",
    "#train_x = train_x.apply(lambda x: pd.factorize(x)[0])\n",
    "#train_x = train_x.astype('category')\n",
    "\n",
    "train_x.columns"
   ]
  },
  {
   "cell_type": "code",
   "execution_count": 4,
   "metadata": {
    "ExecuteTime": {
     "end_time": "2019-12-19T17:57:34.207668Z",
     "start_time": "2019-12-19T17:57:34.186719Z"
    }
   },
   "outputs": [
    {
     "data": {
      "text/html": [
       "<div>\n",
       "<style scoped>\n",
       "    .dataframe tbody tr th:only-of-type {\n",
       "        vertical-align: middle;\n",
       "    }\n",
       "\n",
       "    .dataframe tbody tr th {\n",
       "        vertical-align: top;\n",
       "    }\n",
       "\n",
       "    .dataframe thead th {\n",
       "        text-align: right;\n",
       "    }\n",
       "</style>\n",
       "<table border=\"1\" class=\"dataframe\">\n",
       "  <thead>\n",
       "    <tr style=\"text-align: right;\">\n",
       "      <th></th>\n",
       "      <th>hour</th>\n",
       "      <th>C1</th>\n",
       "      <th>banner_pos</th>\n",
       "      <th>site_id</th>\n",
       "      <th>site_domain</th>\n",
       "      <th>site_category</th>\n",
       "      <th>app_id</th>\n",
       "      <th>app_domain</th>\n",
       "      <th>app_category</th>\n",
       "      <th>device_id</th>\n",
       "      <th>...</th>\n",
       "      <th>device_type</th>\n",
       "      <th>device_conn_type</th>\n",
       "      <th>C14</th>\n",
       "      <th>C15</th>\n",
       "      <th>C16</th>\n",
       "      <th>C17</th>\n",
       "      <th>C18</th>\n",
       "      <th>C19</th>\n",
       "      <th>C20</th>\n",
       "      <th>C21</th>\n",
       "    </tr>\n",
       "  </thead>\n",
       "  <tbody>\n",
       "    <tr>\n",
       "      <th>0</th>\n",
       "      <td>11</td>\n",
       "      <td>1005</td>\n",
       "      <td>1</td>\n",
       "      <td>e151e245</td>\n",
       "      <td>7e091613</td>\n",
       "      <td>f028772b</td>\n",
       "      <td>ecad2386</td>\n",
       "      <td>7801e8d9</td>\n",
       "      <td>07d7df22</td>\n",
       "      <td>a99f214a</td>\n",
       "      <td>...</td>\n",
       "      <td>1</td>\n",
       "      <td>0</td>\n",
       "      <td>-1</td>\n",
       "      <td>320</td>\n",
       "      <td>50</td>\n",
       "      <td>1872</td>\n",
       "      <td>3</td>\n",
       "      <td>39</td>\n",
       "      <td>-1</td>\n",
       "      <td>23</td>\n",
       "    </tr>\n",
       "    <tr>\n",
       "      <th>1</th>\n",
       "      <td>23</td>\n",
       "      <td>1005</td>\n",
       "      <td>0</td>\n",
       "      <td>1fbe01fe</td>\n",
       "      <td>f3845767</td>\n",
       "      <td>28905ebd</td>\n",
       "      <td>ecad2386</td>\n",
       "      <td>7801e8d9</td>\n",
       "      <td>07d7df22</td>\n",
       "      <td>a99f214a</td>\n",
       "      <td>...</td>\n",
       "      <td>1</td>\n",
       "      <td>0</td>\n",
       "      <td>15707</td>\n",
       "      <td>320</td>\n",
       "      <td>50</td>\n",
       "      <td>1722</td>\n",
       "      <td>0</td>\n",
       "      <td>35</td>\n",
       "      <td>100083</td>\n",
       "      <td>79</td>\n",
       "    </tr>\n",
       "    <tr>\n",
       "      <th>2</th>\n",
       "      <td>14</td>\n",
       "      <td>1005</td>\n",
       "      <td>0</td>\n",
       "      <td>85f751fd</td>\n",
       "      <td>c4e18dd6</td>\n",
       "      <td>50e219e0</td>\n",
       "      <td>0</td>\n",
       "      <td>0</td>\n",
       "      <td>0f2161f8</td>\n",
       "      <td>a99f214a</td>\n",
       "      <td>...</td>\n",
       "      <td>1</td>\n",
       "      <td>2</td>\n",
       "      <td>-1</td>\n",
       "      <td>320</td>\n",
       "      <td>50</td>\n",
       "      <td>-1</td>\n",
       "      <td>3</td>\n",
       "      <td>39</td>\n",
       "      <td>-1</td>\n",
       "      <td>23</td>\n",
       "    </tr>\n",
       "    <tr>\n",
       "      <th>3</th>\n",
       "      <td>11</td>\n",
       "      <td>1005</td>\n",
       "      <td>0</td>\n",
       "      <td>85f751fd</td>\n",
       "      <td>c4e18dd6</td>\n",
       "      <td>50e219e0</td>\n",
       "      <td>0</td>\n",
       "      <td>0</td>\n",
       "      <td>0f2161f8</td>\n",
       "      <td>a99f214a</td>\n",
       "      <td>...</td>\n",
       "      <td>1</td>\n",
       "      <td>0</td>\n",
       "      <td>-1</td>\n",
       "      <td>320</td>\n",
       "      <td>50</td>\n",
       "      <td>-1</td>\n",
       "      <td>3</td>\n",
       "      <td>171</td>\n",
       "      <td>100228</td>\n",
       "      <td>156</td>\n",
       "    </tr>\n",
       "    <tr>\n",
       "      <th>4</th>\n",
       "      <td>2</td>\n",
       "      <td>1005</td>\n",
       "      <td>0</td>\n",
       "      <td>85f751fd</td>\n",
       "      <td>c4e18dd6</td>\n",
       "      <td>50e219e0</td>\n",
       "      <td>0</td>\n",
       "      <td>0</td>\n",
       "      <td>0f2161f8</td>\n",
       "      <td>a99f214a</td>\n",
       "      <td>...</td>\n",
       "      <td>1</td>\n",
       "      <td>0</td>\n",
       "      <td>-1</td>\n",
       "      <td>320</td>\n",
       "      <td>50</td>\n",
       "      <td>1887</td>\n",
       "      <td>3</td>\n",
       "      <td>39</td>\n",
       "      <td>-1</td>\n",
       "      <td>23</td>\n",
       "    </tr>\n",
       "  </tbody>\n",
       "</table>\n",
       "<p>5 rows × 22 columns</p>\n",
       "</div>"
      ],
      "text/plain": [
       "  hour    C1 banner_pos   site_id site_domain site_category    app_id  \\\n",
       "0   11  1005          1  e151e245    7e091613      f028772b  ecad2386   \n",
       "1   23  1005          0  1fbe01fe    f3845767      28905ebd  ecad2386   \n",
       "2   14  1005          0  85f751fd    c4e18dd6      50e219e0         0   \n",
       "3   11  1005          0  85f751fd    c4e18dd6      50e219e0         0   \n",
       "4    2  1005          0  85f751fd    c4e18dd6      50e219e0         0   \n",
       "\n",
       "  app_domain app_category device_id  ... device_type device_conn_type    C14  \\\n",
       "0   7801e8d9     07d7df22  a99f214a  ...           1                0     -1   \n",
       "1   7801e8d9     07d7df22  a99f214a  ...           1                0  15707   \n",
       "2          0     0f2161f8  a99f214a  ...           1                2     -1   \n",
       "3          0     0f2161f8  a99f214a  ...           1                0     -1   \n",
       "4          0     0f2161f8  a99f214a  ...           1                0     -1   \n",
       "\n",
       "   C15 C16   C17 C18  C19     C20  C21  \n",
       "0  320  50  1872   3   39      -1   23  \n",
       "1  320  50  1722   0   35  100083   79  \n",
       "2  320  50    -1   3   39      -1   23  \n",
       "3  320  50    -1   3  171  100228  156  \n",
       "4  320  50  1887   3   39      -1   23  \n",
       "\n",
       "[5 rows x 22 columns]"
      ]
     },
     "execution_count": 4,
     "metadata": {},
     "output_type": "execute_result"
    }
   ],
   "source": [
    "train_x.head()"
   ]
  },
  {
   "cell_type": "code",
   "execution_count": 5,
   "metadata": {
    "ExecuteTime": {
     "end_time": "2019-12-19T17:57:35.524548Z",
     "start_time": "2019-12-19T17:57:35.521553Z"
    }
   },
   "outputs": [],
   "source": [
    "from sklearn.preprocessing import LabelEncoder\n",
    "from sklearn.preprocessing import OneHotEncoder\n",
    "# prepare input data\n",
    "def prepare_inputs(X_train):\n",
    "    ohe = OneHotEncoder()\n",
    "    ohe.fit(X_train)\n",
    "    X_train_enc = ohe.transform(X_train)\n",
    "    return X_train_enc"
   ]
  },
  {
   "cell_type": "code",
   "execution_count": 6,
   "metadata": {
    "ExecuteTime": {
     "end_time": "2019-12-19T17:57:43.858919Z",
     "start_time": "2019-12-19T17:57:36.852969Z"
    }
   },
   "outputs": [],
   "source": [
    "x_train = prepare_inputs(train_x)"
   ]
  },
  {
   "cell_type": "code",
   "execution_count": 7,
   "metadata": {
    "ExecuteTime": {
     "end_time": "2019-12-19T17:57:48.541695Z",
     "start_time": "2019-12-19T17:57:47.935998Z"
    }
   },
   "outputs": [],
   "source": [
    "X_train, X_val, y_train, y_val = train_test_split(x_train, train_y, test_size=0.3, random_state=42)"
   ]
  },
  {
   "cell_type": "code",
   "execution_count": 11,
   "metadata": {
    "ExecuteTime": {
     "end_time": "2019-12-19T18:04:28.892615Z",
     "start_time": "2019-12-19T18:02:03.582882Z"
    }
   },
   "outputs": [
    {
     "name": "stdout",
     "output_type": "stream",
     "text": [
      "logloss : 0.4070\n"
     ]
    }
   ],
   "source": [
    "# a 0.407 model\n",
    "\n",
    "from sklearn import metrics\n",
    "from xgboost.sklearn import XGBClassifier\n",
    "clf = XGBClassifier(\n",
    "silent=0,\n",
    "#nthread=4,# cpu \n",
    "learning_rate= 0.3,\n",
    "min_child_weight=1, \n",
    "max_depth=6, \n",
    "gamma=0, \n",
    "subsample=1, \n",
    "max_delta_step=0,\n",
    "colsample_bytree=1, \n",
    "reg_lambda=1,  \n",
    "#reg_alpha=0, # L1 \n",
    "#scale_pos_weight=1, \n",
    "#objective= 'multi:softmax', \n",
    "#num_class=10, \n",
    "n_estimators=100, # tree number\n",
    "seed=1000 # random seed\n",
    "#eval_metric= 'logloss'\n",
    ")\n",
    "clf.fit(X_train, y_train,eval_set=[(X_train, y_train)],eval_metric='logloss',verbose=False)\n",
    "evals_result = clf.evals_result()\n",
    "y_true, y_pred = y_val, clf.predict_proba(X_val)[:, 1]\n",
    "print(\"logloss : %0.4f\" % log_loss(y_true,y_pred))"
   ]
  },
  {
   "cell_type": "code",
   "execution_count": null,
   "metadata": {},
   "outputs": [],
   "source": [
    "# hyperparameter tuning, put whatever you want to try in the for loop, remember to change print\n",
    "\n",
    "for s in [0.9]:\n",
    "    for n in [150,200,250]:\n",
    "        clf = XGBClassifier(\n",
    "              silent=0, \n",
    "              #nthread=4,\n",
    "              learning_rate= 0.1,\n",
    "              min_child_weight=0.5, \n",
    "              max_depth=5, \n",
    "              gamma=0.1, \n",
    "              subsample=1, \n",
    "              max_delta_step=0,\n",
    "              colsample_bytree=1, \n",
    "              reg_lambda=1,\n",
    "              #reg_alpha=1, # L1 \n",
    "              #scale_pos_weight=1,\n",
    "              #objective= 'multi:softmax',\n",
    "              #num_class=10,\n",
    "              n_estimators=n, \n",
    "              seed=1000\n",
    "              #eval_metric= 'logloss'\n",
    "              )\n",
    "        clf.fit(X_train,y_train,eval_set=[(X_train, y_train)],eval_metric='logloss',verbose=False)\n",
    "        #evals_result = clf.evals_result()\n",
    "        y_true, y_pred = y_val, clf.predict_proba(X_val)[:, 1]\n",
    "        print(\"Logloss: %0.3f, subsample: %0.1f,n: %0.1f \"%(log_loss(y_true,y_pred),s,n))"
   ]
  }
 ],
 "metadata": {
  "kernelspec": {
   "display_name": "Python 3",
   "language": "python",
   "name": "python3"
  },
  "language_info": {
   "codemirror_mode": {
    "name": "ipython",
    "version": 3
   },
   "file_extension": ".py",
   "mimetype": "text/x-python",
   "name": "python",
   "nbconvert_exporter": "python",
   "pygments_lexer": "ipython3",
   "version": "3.7.3"
  },
  "toc": {
   "base_numbering": 1,
   "nav_menu": {},
   "number_sections": true,
   "sideBar": true,
   "skip_h1_title": false,
   "title_cell": "Table of Contents",
   "title_sidebar": "Contents",
   "toc_cell": false,
   "toc_position": {},
   "toc_section_display": true,
   "toc_window_display": false
  },
  "varInspector": {
   "cols": {
    "lenName": 16,
    "lenType": 16,
    "lenVar": 40
   },
   "kernels_config": {
    "python": {
     "delete_cmd_postfix": "",
     "delete_cmd_prefix": "del ",
     "library": "var_list.py",
     "varRefreshCmd": "print(var_dic_list())"
    },
    "r": {
     "delete_cmd_postfix": ") ",
     "delete_cmd_prefix": "rm(",
     "library": "var_list.r",
     "varRefreshCmd": "cat(var_dic_list()) "
    }
   },
   "types_to_exclude": [
    "module",
    "function",
    "builtin_function_or_method",
    "instance",
    "_Feature"
   ],
   "window_display": false
  }
 },
 "nbformat": 4,
 "nbformat_minor": 2
}
